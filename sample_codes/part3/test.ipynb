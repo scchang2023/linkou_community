{
 "cells": [
  {
   "cell_type": "code",
   "execution_count": 9,
   "metadata": {},
   "outputs": [
    {
     "name": "stdout",
     "output_type": "stream",
     "text": [
      "<_csv.reader object at 0x000002110BD4F880>\n",
      "['姓名', '身高', '體重']\n",
      "['趙一哥', '175', '60']\n",
      "['錢二姊', '165', '57']\n"
     ]
    }
   ],
   "source": [
    "import csv\n",
    "\n",
    "with open(\"csvfile.csv\", newline=\"\", encoding=\"utf-8\") as csvfile:\n",
    "    rows = csv.reader(csvfile)\n",
    "    print(rows)\n",
    "    for row in rows:\n",
    "        print(row)\n"
   ]
  },
  {
   "cell_type": "code",
   "execution_count": 17,
   "metadata": {},
   "outputs": [
    {
     "name": "stdout",
     "output_type": "stream",
     "text": [
      "姓名 身高 體重 \n",
      "趙一哥 175 60 \n",
      "錢二姊 165 57 \n"
     ]
    }
   ],
   "source": [
    "with open(\"csvfile.csv\", newline=\"\", encoding=\"utf-8\") as csvfile:\n",
    "    rows = csv.DictReader(csvfile)\n",
    "    for field in rows.fieldnames:\n",
    "        print(field,end=\" \")\n",
    "    print()\n",
    "    for row in rows:\n",
    "        #print(row[\"姓名\"], row[\"身高\"], row[\"體重\"])\n",
    "        for field in rows.fieldnames:\n",
    "            print(row[field],end=\" \")\n",
    "        print(\"\") \n"
   ]
  },
  {
   "cell_type": "code",
   "execution_count": 3,
   "metadata": {},
   "outputs": [],
   "source": [
    "import csv\n",
    "\n",
    "csvfile = open(\"csvfile.csv\", \"w\", newline=\"\", encoding=\"utf-8\")\n",
    "writer=csv.writer(csvfile)\n",
    "writer.writerow([\"姓名\", \"身高\", \"體重\"])\n",
    "writer.writerow([\"趙一哥\", 175, 60])\n",
    "writer.writerow([\"錢二姊\", 165, 57])\n",
    "csvfile.close()"
   ]
  }
 ],
 "metadata": {
  "kernelspec": {
   "display_name": "Python 3",
   "language": "python",
   "name": "python3"
  },
  "language_info": {
   "codemirror_mode": {
    "name": "ipython",
    "version": 3
   },
   "file_extension": ".py",
   "mimetype": "text/x-python",
   "name": "python",
   "nbconvert_exporter": "python",
   "pygments_lexer": "ipython3",
   "version": "3.11.5"
  }
 },
 "nbformat": 4,
 "nbformat_minor": 2
}
