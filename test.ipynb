{
 "cells": [
  {
   "cell_type": "code",
   "execution_count": 2,
   "metadata": {},
   "outputs": [
    {
     "name": "stdout",
     "output_type": "stream",
     "text": [
      "a    0.25\n",
      "b    0.50\n",
      "c    0.75\n",
      "d    1.00\n",
      "dtype: float64\n",
      "0.5\n"
     ]
    }
   ],
   "source": [
    "import pandas as pd\n",
    "\n",
    "data=pd.Series([0.25,0.5,0.75,1.0], index=[\"a\",\"b\",\"c\",\"d\"])\n",
    "print(data)\n",
    "print(data[\"b\"])\n"
   ]
  },
  {
   "cell_type": "code",
   "execution_count": 3,
   "metadata": {},
   "outputs": [
    {
     "name": "stdout",
     "output_type": "stream",
     "text": [
      "2    0.25\n",
      "5    0.50\n",
      "3    0.75\n",
      "7    1.00\n",
      "dtype: float64\n",
      "0.5\n"
     ]
    }
   ],
   "source": [
    "data=pd.Series([0.25,0.5,0.75,1.0], index=[2,5,3,7])\n",
    "print(data)\n",
    "print(data[5])\n"
   ]
  },
  {
   "cell_type": "code",
   "execution_count": 4,
   "metadata": {},
   "outputs": [
    {
     "name": "stdout",
     "output_type": "stream",
     "text": [
      "California    39250017\n",
      "Texas         27862596\n",
      "Florida       20612439\n",
      "New York      19745289\n",
      "Illinois      12801539\n",
      "dtype: int64\n"
     ]
    }
   ],
   "source": [
    "population_dict={\"California\":39250017,\n",
    "                 \"Texas\":27862596,\n",
    "                 \"Florida\":20612439,\n",
    "                 \"New York\":19745289,\n",
    "                 \"Illinois\":12801539}\n",
    "population=pd.Series(population_dict)\n",
    "print(population)\n"
   ]
  },
  {
   "cell_type": "code",
   "execution_count": 5,
   "metadata": {},
   "outputs": [
    {
     "name": "stdout",
     "output_type": "stream",
     "text": [
      "39250017\n"
     ]
    }
   ],
   "source": [
    "print(population[\"California\"])\n"
   ]
  },
  {
   "cell_type": "code",
   "execution_count": 6,
   "metadata": {},
   "outputs": [
    {
     "name": "stdout",
     "output_type": "stream",
     "text": [
      "California    39250017\n",
      "Texas         27862596\n",
      "Florida       20612439\n",
      "New York      19745289\n",
      "Illinois      12801539\n",
      "dtype: int64\n"
     ]
    }
   ],
   "source": [
    "print(population[\"California\":\"Illinois\"])\n"
   ]
  },
  {
   "cell_type": "code",
   "execution_count": 7,
   "metadata": {},
   "outputs": [
    {
     "name": "stdout",
     "output_type": "stream",
     "text": [
      "California    423967\n",
      "Texas         695662\n",
      "New York      141297\n",
      "Florida       170312\n",
      "Illinois      149995\n",
      "dtype: int64\n"
     ]
    }
   ],
   "source": [
    "area_dict={\"California\":423967,\n",
    "           \"Texas\":695662,\n",
    "           \"New York\": 141297,\n",
    "           \"Florida\":170312,\n",
    "           \"Illinois\": 149995}\n",
    "area=pd.Series(area_dict)\n",
    "print(area)\n"
   ]
  },
  {
   "cell_type": "code",
   "execution_count": 8,
   "metadata": {},
   "outputs": [
    {
     "name": "stdout",
     "output_type": "stream",
     "text": [
      "            population    area\n",
      "California    39250017  423967\n",
      "Florida       20612439  170312\n",
      "Illinois      12801539  149995\n",
      "New York      19745289  141297\n",
      "Texas         27862596  695662\n"
     ]
    }
   ],
   "source": [
    "states=pd.DataFrame({\"population\":population,\"area\":area})\n",
    "print(states)\n"
   ]
  },
  {
   "cell_type": "code",
   "execution_count": 9,
   "metadata": {},
   "outputs": [
    {
     "name": "stdout",
     "output_type": "stream",
     "text": [
      "Index(['California', 'Florida', 'Illinois', 'New York', 'Texas'], dtype='object')\n",
      "Index(['population', 'area'], dtype='object')\n"
     ]
    }
   ],
   "source": [
    "print(states.index)\n",
    "print(states.columns)"
   ]
  },
  {
   "cell_type": "code",
   "execution_count": 10,
   "metadata": {},
   "outputs": [
    {
     "name": "stdout",
     "output_type": "stream",
     "text": [
      "a    0.25\n",
      "b    0.50\n",
      "c    0.75\n",
      "d    1.00\n",
      "dtype: float64\n",
      "0.5\n"
     ]
    }
   ],
   "source": [
    "data=pd.Series([0.25,0.5,0.75,1.0],\n",
    "               index=[\"a\",\"b\",\"c\",\"d\"])\n",
    "print(data)\n",
    "print(data[\"b\"])\n"
   ]
  },
  {
   "cell_type": "code",
   "execution_count": 11,
   "metadata": {},
   "outputs": [
    {
     "name": "stdout",
     "output_type": "stream",
     "text": [
      "a    0.25\n",
      "b    0.50\n",
      "c    0.75\n",
      "d    1.00\n",
      "e    1.25\n",
      "dtype: float64\n"
     ]
    }
   ],
   "source": [
    "data[\"e\"]=1.25\n",
    "print(data)\n"
   ]
  },
  {
   "cell_type": "code",
   "execution_count": 12,
   "metadata": {},
   "outputs": [
    {
     "name": "stdout",
     "output_type": "stream",
     "text": [
      "a    0.25\n",
      "b    0.50\n",
      "c    0.75\n",
      "dtype: float64\n",
      "a    0.25\n",
      "b    0.50\n",
      "dtype: float64\n"
     ]
    }
   ],
   "source": [
    "print(data[\"a\":\"c\"])\n",
    "print(data[0:2])\n"
   ]
  },
  {
   "cell_type": "code",
   "execution_count": 13,
   "metadata": {},
   "outputs": [
    {
     "name": "stdout",
     "output_type": "stream",
     "text": [
      "b    0.50\n",
      "c    0.75\n",
      "dtype: float64\n",
      "a    0.25\n",
      "e    1.25\n",
      "dtype: float64\n"
     ]
    }
   ],
   "source": [
    "data[\"e\"]=1.25\n",
    "print(data[(data>0.3) & (data<0.8)])\n",
    "print(data[[\"a\",\"e\"]])\n"
   ]
  },
  {
   "cell_type": "code",
   "execution_count": 14,
   "metadata": {},
   "outputs": [
    {
     "name": "stdout",
     "output_type": "stream",
     "text": [
      "1    a\n",
      "3    b\n",
      "5    c\n",
      "dtype: object\n",
      "a\n",
      "3    b\n",
      "5    c\n",
      "dtype: object\n"
     ]
    }
   ],
   "source": [
    "data=pd.Series([\"a\",\"b\",\"c\"],index=[1,3,5])\n",
    "print(data)\n",
    "print(data[1])\n",
    "print(data[1:3])\n"
   ]
  },
  {
   "cell_type": "code",
   "execution_count": 15,
   "metadata": {},
   "outputs": [
    {
     "name": "stdout",
     "output_type": "stream",
     "text": [
      "a\n",
      "1    a\n",
      "3    b\n",
      "dtype: object\n"
     ]
    }
   ],
   "source": [
    "print(data.loc[1])\n",
    "print(data.loc[1:3])"
   ]
  },
  {
   "cell_type": "code",
   "execution_count": 16,
   "metadata": {},
   "outputs": [
    {
     "name": "stdout",
     "output_type": "stream",
     "text": [
      "b\n",
      "3    b\n",
      "5    c\n",
      "dtype: object\n"
     ]
    }
   ],
   "source": [
    "print(data.iloc[1])\n",
    "print(data.iloc[1:3])\n"
   ]
  },
  {
   "cell_type": "code",
   "execution_count": 17,
   "metadata": {},
   "outputs": [
    {
     "name": "stdout",
     "output_type": "stream",
     "text": [
      "              area       pop\n",
      "California  423967  39250017\n",
      "Florida     170312  20612439\n",
      "Illinois    149995  12801539\n",
      "New York    141297  19745289\n",
      "Texas       695662  27862596\n"
     ]
    }
   ],
   "source": [
    "area=pd.Series({\"California\":423967,\"Texas\":695662,\n",
    "                \"New York\":141297,\"Florida\":170312,\n",
    "                \"Illinois\":149995})\n",
    "pop=pd.Series({\"California\":39250017,\"Texas\":27862596,\n",
    "               \"Florida\":20612439,\"New York\":19745289,\n",
    "               \"Illinois\":12801539})\n",
    "data=pd.DataFrame({\"area\":area,\"pop\":pop})\n",
    "print(data)\n"
   ]
  },
  {
   "cell_type": "code",
   "execution_count": 18,
   "metadata": {},
   "outputs": [
    {
     "name": "stdout",
     "output_type": "stream",
     "text": [
      "California    423967\n",
      "Florida       170312\n",
      "Illinois      149995\n",
      "New York      141297\n",
      "Texas         695662\n",
      "Name: area, dtype: int64\n"
     ]
    }
   ],
   "source": [
    "print(data[\"area\"])"
   ]
  },
  {
   "cell_type": "code",
   "execution_count": 19,
   "metadata": {},
   "outputs": [
    {
     "name": "stdout",
     "output_type": "stream",
     "text": [
      "              area       pop     density\n",
      "California  423967  39250017   92.578000\n",
      "Florida     170312  20612439  121.027520\n",
      "Illinois    149995  12801539   85.346438\n",
      "New York    141297  19745289  139.743158\n",
      "Texas       695662  27862596   40.051916\n"
     ]
    }
   ],
   "source": [
    "data[\"density\"]=data[\"pop\"]/data[\"area\"]\n",
    "print(data)"
   ]
  },
  {
   "cell_type": "code",
   "execution_count": 20,
   "metadata": {},
   "outputs": [
    {
     "name": "stdout",
     "output_type": "stream",
     "text": [
      "              area       pop\n",
      "California  423967  39250017\n",
      "Florida     170312  20612439\n",
      "Illinois    149995  12801539\n"
     ]
    }
   ],
   "source": [
    "print(data.iloc[:3,:2])"
   ]
  },
  {
   "cell_type": "code",
   "execution_count": 21,
   "metadata": {},
   "outputs": [
    {
     "name": "stdout",
     "output_type": "stream",
     "text": [
      "              area       pop\n",
      "California  423967  39250017\n",
      "Florida     170312  20612439\n",
      "Illinois    149995  12801539\n"
     ]
    }
   ],
   "source": [
    "print(data.loc[:\"Illinois\",:\"pop\"])\n"
   ]
  },
  {
   "cell_type": "code",
   "execution_count": 23,
   "metadata": {},
   "outputs": [
    {
     "name": "stdout",
     "output_type": "stream",
     "text": [
      "          中文名稱                    登記地址\n",
      "0         美洲山莊  262宜蘭縣礁溪鄉德陽村仁愛路22號1-3樓\n",
      "1     泉湯溫泉商務旅館      262宜蘭縣礁溪鄉大忠村大忠路80號\n",
      "2         龍山旅社         262宜蘭縣礁溪鄉仁愛路36號\n",
      "3         紘冠飯店        262宜蘭縣礁溪鄉德陽路140號\n",
      "4         山水旅館         265宜蘭縣羅東鎮和平路75號\n",
      "..         ...                     ...\n",
      "201    和睦二十六旅店         260宜蘭縣宜蘭市和睦路26號\n",
      "202   樂亞香草藝術旅店    265宜蘭縣羅東鎮公正里林森路68號3樓\n",
      "203     羅東幸福商旅   265宜蘭縣羅東鎮中山路三段62號、66號\n",
      "204  礁溪廿一號溫泉旅店    262宜蘭縣礁溪鄉信義路34巷21號1樓\n",
      "205   非杋精品汽車旅館      260宜蘭縣宜蘭市宜興路三段181號\n",
      "\n",
      "[206 rows x 2 columns]\n"
     ]
    }
   ],
   "source": [
    "import pandas as pd\n",
    "\n",
    "df=pd.read_csv(\"./sample_codes/part5/宜蘭縣旅館名冊.csv\",encoding=\"utf-8\", sep=\",\")\n",
    "df=df.iloc[:,[3,9]]\n",
    "print(df)\n",
    "df.to_csv(\"宜蘭縣旅館名冊1.csv\")\n",
    "df.to_csv(\"宜蘭縣旅館名冊2.csv\",index=False)\n"
   ]
  }
 ],
 "metadata": {
  "kernelspec": {
   "display_name": "Python 3",
   "language": "python",
   "name": "python3"
  },
  "language_info": {
   "codemirror_mode": {
    "name": "ipython",
    "version": 3
   },
   "file_extension": ".py",
   "mimetype": "text/x-python",
   "name": "python",
   "nbconvert_exporter": "python",
   "pygments_lexer": "ipython3",
   "version": "3.11.5"
  }
 },
 "nbformat": 4,
 "nbformat_minor": 2
}
