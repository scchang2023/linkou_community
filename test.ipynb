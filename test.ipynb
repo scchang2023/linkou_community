{
 "cells": [
  {
   "cell_type": "code",
   "execution_count": 2,
   "metadata": {},
   "outputs": [
    {
     "name": "stdout",
     "output_type": "stream",
     "text": [
      "a    0.25\n",
      "b    0.50\n",
      "c    0.75\n",
      "d    1.00\n",
      "dtype: float64\n",
      "0.5\n"
     ]
    }
   ],
   "source": [
    "import pandas as pd\n",
    "\n",
    "data=pd.Series([0.25,0.5,0.75,1.0], index=[\"a\",\"b\",\"c\",\"d\"])\n",
    "print(data)\n",
    "print(data[\"b\"])\n"
   ]
  },
  {
   "cell_type": "code",
   "execution_count": 3,
   "metadata": {},
   "outputs": [
    {
     "name": "stdout",
     "output_type": "stream",
     "text": [
      "2    0.25\n",
      "5    0.50\n",
      "3    0.75\n",
      "7    1.00\n",
      "dtype: float64\n",
      "0.5\n"
     ]
    }
   ],
   "source": [
    "data=pd.Series([0.25,0.5,0.75,1.0], index=[2,5,3,7])\n",
    "print(data)\n",
    "print(data[5])\n"
   ]
  },
  {
   "cell_type": "code",
   "execution_count": 4,
   "metadata": {},
   "outputs": [
    {
     "name": "stdout",
     "output_type": "stream",
     "text": [
      "California    39250017\n",
      "Texas         27862596\n",
      "Florida       20612439\n",
      "New York      19745289\n",
      "Illinois      12801539\n",
      "dtype: int64\n"
     ]
    }
   ],
   "source": [
    "population_dict={\"California\":39250017,\n",
    "                 \"Texas\":27862596,\n",
    "                 \"Florida\":20612439,\n",
    "                 \"New York\":19745289,\n",
    "                 \"Illinois\":12801539}\n",
    "population=pd.Series(population_dict)\n",
    "print(population)\n"
   ]
  }
 ],
 "metadata": {
  "kernelspec": {
   "display_name": "Python 3",
   "language": "python",
   "name": "python3"
  },
  "language_info": {
   "codemirror_mode": {
    "name": "ipython",
    "version": 3
   },
   "file_extension": ".py",
   "mimetype": "text/x-python",
   "name": "python",
   "nbconvert_exporter": "python",
   "pygments_lexer": "ipython3",
   "version": "3.11.5"
  }
 },
 "nbformat": 4,
 "nbformat_minor": 2
}
