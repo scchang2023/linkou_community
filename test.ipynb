{
 "cells": [
  {
   "cell_type": "code",
   "execution_count": 36,
   "metadata": {},
   "outputs": [
    {
     "name": "stdout",
     "output_type": "stream",
     "text": [
      "83\n",
      "98\n",
      "56\n"
     ]
    }
   ],
   "source": [
    "scores=[83, 98, 56]\n",
    "for i in range(len(scores)):\n",
    "    print(scores[i])"
   ]
  },
  {
   "cell_type": "code",
   "execution_count": 37,
   "metadata": {},
   "outputs": [],
   "source": [
    "list1 = [\"香蕉\", \"蘋果\", \"橘子\"]\n",
    "n = list1.count(\"蘋果\")\n",
    "m = list1.count(\"西瓜\")"
   ]
  },
  {
   "cell_type": "code",
   "execution_count": 38,
   "metadata": {},
   "outputs": [
    {
     "name": "stdout",
     "output_type": "stream",
     "text": [
      "[1, 2, 3, '豬頭', 4, 5, 6]\n"
     ]
    }
   ],
   "source": [
    "list1 = [1, 2, 3, 4, 5, 6]\n",
    "list1.insert(3, \"豬頭\")\n",
    "print(list1)"
   ]
  },
  {
   "cell_type": "code",
   "execution_count": 39,
   "metadata": {},
   "outputs": [
    {
     "name": "stdout",
     "output_type": "stream",
     "text": [
      "[1, 2, 3, 4, 5, '鳳梨蝦球', 6]\n",
      "[1, 2, 3, 4, 5, '鳳梨蝦球', 6, '高麗菜']\n"
     ]
    }
   ],
   "source": [
    "list1 = [1, 2, 3, 4, 5, 6]\n",
    "list1.insert(-1, \"鳳梨蝦球\")\n",
    "print(list1)\n",
    "list1.insert(12, \"高麗菜\")\n",
    "print(list1)"
   ]
  },
  {
   "cell_type": "code",
   "execution_count": 40,
   "metadata": {},
   "outputs": [
    {
     "name": "stdout",
     "output_type": "stream",
     "text": [
      "['春天', '秋天', '冬天']\n"
     ]
    }
   ],
   "source": [
    "list1 =[\"春天\", \"夏天\", \"秋天\", \"冬天\"]\n",
    "list1.remove(\"夏天\")\n",
    "print(list1)"
   ]
  },
  {
   "cell_type": "code",
   "execution_count": 41,
   "metadata": {},
   "outputs": [
    {
     "name": "stdout",
     "output_type": "stream",
     "text": [
      "[1, 2, 3, 4, 5] 6\n",
      "[1, 2, 4, 5] 3\n"
     ]
    }
   ],
   "source": [
    "list1 = [1, 2, 3, 4, 5, 6]\n",
    "n = list1.pop()\n",
    "print(list1, n)\n",
    "n = list1.pop(2)\n",
    "print(list1, n)"
   ]
  },
  {
   "cell_type": "code",
   "execution_count": 42,
   "metadata": {},
   "outputs": [
    {
     "name": "stdout",
     "output_type": "stream",
     "text": [
      "[1, 3, 4, 5, 6]\n",
      "[1, 3, 5, 6]\n"
     ]
    }
   ],
   "source": [
    "list1 = [1, 2, 3, 4, 5, 6]\n",
    "del list1[1]\n",
    "print(list1)\n",
    "list2 = [1, 2, 3, 4, 5, 6]\n",
    "del list2[1:5:2]\n",
    "print(list2)"
   ]
  },
  {
   "cell_type": "code",
   "execution_count": 43,
   "metadata": {},
   "outputs": [
    {
     "name": "stdout",
     "output_type": "stream",
     "text": [
      "[1, 2, 3, 5]\n"
     ]
    }
   ],
   "source": [
    "list1 = [3, 2, 1, 5]\n",
    "list1.sort()\n",
    "print(list1)"
   ]
  },
  {
   "cell_type": "code",
   "execution_count": 44,
   "metadata": {},
   "outputs": [
    {
     "name": "stdout",
     "output_type": "stream",
     "text": [
      "[5, 3, 2, 1]\n",
      "[3, 2, 1, 5]\n"
     ]
    }
   ],
   "source": [
    "list1 = [3, 2, 1, 5]\n",
    "list2=sorted(list1, reverse=True)\n",
    "print(list2)\n",
    "print(list1)"
   ]
  },
  {
   "cell_type": "code",
   "execution_count": 45,
   "metadata": {},
   "outputs": [],
   "source": [
    "tuple1 = (1, 2, 3, 4, 5)\n",
    "tuple2 = (1, \"紅豆\", True)\n"
   ]
  },
  {
   "cell_type": "code",
   "execution_count": 46,
   "metadata": {},
   "outputs": [
    {
     "ename": "TypeError",
     "evalue": "'tuple' object does not support item assignment",
     "output_type": "error",
     "traceback": [
      "\u001b[1;31m---------------------------------------------------------------------------\u001b[0m",
      "\u001b[1;31mTypeError\u001b[0m                                 Traceback (most recent call last)",
      "\u001b[1;32md:\\WORK\\linkou_community\\test.ipynb Cell 11\u001b[0m line \u001b[0;36m2\n\u001b[0;32m      <a href='vscode-notebook-cell:/d%3A/WORK/linkou_community/test.ipynb#X13sZmlsZQ%3D%3D?line=0'>1</a>\u001b[0m tuple3 \u001b[39m=\u001b[39m (\u001b[39m\"\u001b[39m\u001b[39m綠豆\u001b[39m\u001b[39m\"\u001b[39m, \u001b[39m\"\u001b[39m\u001b[39m紅豆\u001b[39m\u001b[39m\"\u001b[39m, \u001b[39m\"\u001b[39m\u001b[39m花生\u001b[39m\u001b[39m\"\u001b[39m)\n\u001b[1;32m----> <a href='vscode-notebook-cell:/d%3A/WORK/linkou_community/test.ipynb#X13sZmlsZQ%3D%3D?line=1'>2</a>\u001b[0m tuple3[\u001b[39m1\u001b[39;49m]\u001b[39m=\u001b[39m\u001b[39m\"\u001b[39m\u001b[39m黃豆\u001b[39m\u001b[39m\"\u001b[39m\n",
      "\u001b[1;31mTypeError\u001b[0m: 'tuple' object does not support item assignment"
     ]
    }
   ],
   "source": [
    "tuple3 = (\"綠豆\", \"紅豆\", \"花生\")\n",
    "tuple3[1]=\"黃豆\"\n"
   ]
  },
  {
   "cell_type": "code",
   "execution_count": null,
   "metadata": {},
   "outputs": [],
   "source": [
    "tuple1=(1,2,3,4,5)\n",
    "list1=list(tuple1)\n",
    "list1.append(8)"
   ]
  },
  {
   "cell_type": "code",
   "execution_count": null,
   "metadata": {},
   "outputs": [],
   "source": [
    "list2=[1,2,3,4,5]\n",
    "tuple2=tuple(list2)\n",
    "tuple2.append(8)"
   ]
  },
  {
   "cell_type": "code",
   "execution_count": null,
   "metadata": {},
   "outputs": [],
   "source": [
    "dict2={\"香蕉\":20, \"蘋果\":50, \"橘子\":30, \"香蕉\":25}\n",
    "print(dict2)"
   ]
  },
  {
   "cell_type": "code",
   "execution_count": 60,
   "metadata": {},
   "outputs": [
    {
     "name": "stdout",
     "output_type": "stream",
     "text": [
      "{'香蕉': 20, '蘋果': 50, '橘子': 30}\n"
     ]
    }
   ],
   "source": [
    "dict1={\"香蕉\":20, \"蘋果\":50, \"橘子\":30}\n",
    "print(dict1)"
   ]
  },
  {
   "cell_type": "code",
   "execution_count": 10,
   "metadata": {},
   "outputs": [
    {
     "name": "stdout",
     "output_type": "stream",
     "text": [
      "dict_values([5, 8]) <class 'dict_values'>\n"
     ]
    }
   ],
   "source": [
    "dict1={\"joe\":5, \"mary\":8}\n",
    "value1=dict1.values()\n",
    "print(value1, type(value1))\n"
   ]
  },
  {
   "cell_type": "code",
   "execution_count": 3,
   "metadata": {},
   "outputs": [
    {
     "name": "stdout",
     "output_type": "stream",
     "text": [
      "香蕉\n"
     ]
    }
   ],
   "source": [
    "dict1={\"香蕉\":20, \"蘋果\":50, \"橘子\":30}\n",
    "key1 = list(dict1.keys())\n",
    "print(key1[0])"
   ]
  },
  {
   "cell_type": "code",
   "execution_count": 2,
   "metadata": {},
   "outputs": [
    {
     "data": {
      "text/plain": [
       "56.0"
      ]
     },
     "execution_count": 2,
     "metadata": {},
     "output_type": "execute_result"
    }
   ],
   "source": [
    "float(\"56\")"
   ]
  },
  {
   "cell_type": "code",
   "execution_count": 5,
   "metadata": {},
   "outputs": [
    {
     "name": "stdout",
     "output_type": "stream",
     "text": [
      "接到 func sum\n",
      "幫忙代入 args (1, 2)\n",
      "幫忙代入 kwargs {}\n",
      "debug_sum <function debug.<locals>.wrapper at 0x000001B58AD9A160>\n"
     ]
    }
   ],
   "source": [
    "def sum(a, b):\n",
    "    return a + b\n",
    "\n",
    "def debug(func):\n",
    "    print('接到 func', func.__name__)\n",
    "    def wrapper(*args, **kwargs):\n",
    "        print('幫忙代入 args', args)\n",
    "        print('幫忙代入 kwargs', kwargs)\n",
    "        func(*args, **kwargs)\n",
    "    return wrapper\n",
    "\n",
    "debug_sum = debug(sum)\n",
    "debug_sum(1, 2)\n",
    "print('debug_sum', debug_sum)"
   ]
  },
  {
   "cell_type": "code",
   "execution_count": 1,
   "metadata": {},
   "outputs": [
    {
     "name": "stdout",
     "output_type": "stream",
     "text": [
      "[1 2 3 4]\n",
      "[1 2 3 4]\n"
     ]
    }
   ],
   "source": [
    "import numpy as np\n",
    "\n",
    "a=np.array([1,2,3,4])\n",
    "b=np.array((1,2,3,4))\n",
    "print(a)\n",
    "print(b)"
   ]
  },
  {
   "cell_type": "code",
   "execution_count": 2,
   "metadata": {},
   "outputs": [
    {
     "name": "stdout",
     "output_type": "stream",
     "text": [
      "[ 3  6  9 12 15 18 21 24 27]\n"
     ]
    }
   ],
   "source": [
    "c=np.arange(3,30,3)\n",
    "print(c)\n"
   ]
  },
  {
   "cell_type": "code",
   "execution_count": 3,
   "metadata": {},
   "outputs": [
    {
     "name": "stdout",
     "output_type": "stream",
     "text": [
      "[ 0.   2.5  5.   7.5 10. ]\n"
     ]
    }
   ],
   "source": [
    "d=np.linspace(0,10,5)\n",
    "print(d)\n"
   ]
  },
  {
   "cell_type": "code",
   "execution_count": 4,
   "metadata": {},
   "outputs": [
    {
     "name": "stdout",
     "output_type": "stream",
     "text": [
      "[ 3  6  9 12 15 18 21 24 27]\n",
      "3\n",
      "6\n",
      "[ 9 12 15 18]\n",
      "[ 6 12 18 24]\n"
     ]
    }
   ],
   "source": [
    "c=np.arange(3,30,3)\n",
    "print(c)\n",
    "print(c[0])  # 取得在index位置0的元素\n",
    "print(c[1])  # 取得在index位置1的元素\n",
    "print(c[2:6])  # 取得在index位置2-5(包含2但不含6)的子陣列(subarray)\n",
    "print(c[1:-1:2])  # 取得陣列c中index位置1,3,5,..(各間隔1個元素來選取)的子陣列\n"
   ]
  },
  {
   "cell_type": "code",
   "execution_count": 5,
   "metadata": {},
   "outputs": [
    {
     "name": "stdout",
     "output_type": "stream",
     "text": [
      "(3, 4)\n",
      "(2, 3, 4)\n"
     ]
    }
   ],
   "source": [
    "two_dim=np.array([[1,2,3,4],[5,6,7,8],[9,10,11,12]])\n",
    "three_dim=np.array([[[1,2,3,4],\n",
    "                     [5,6,7,8],\n",
    "                     [9,10,11,12]],\n",
    "                    [[13,14,15,16],\n",
    "                     [17,18,19,20],\n",
    "                     [21,22,23,24]]])\n",
    "print(two_dim.shape)\n",
    "print(three_dim.shape)\n"
   ]
  }
 ],
 "metadata": {
  "kernelspec": {
   "display_name": "Python 3",
   "language": "python",
   "name": "python3"
  },
  "language_info": {
   "codemirror_mode": {
    "name": "ipython",
    "version": 3
   },
   "file_extension": ".py",
   "mimetype": "text/x-python",
   "name": "python",
   "nbconvert_exporter": "python",
   "pygments_lexer": "ipython3",
   "version": "3.11.5"
  }
 },
 "nbformat": 4,
 "nbformat_minor": 2
}
