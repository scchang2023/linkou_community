{
 "cells": [
  {
   "cell_type": "code",
   "execution_count": 8,
   "metadata": {},
   "outputs": [
    {
     "name": "stdout",
     "output_type": "stream",
     "text": [
      "[[0.67432404 0.90712961 0.44047645 0.32877987]\n",
      " [0.22445696 0.7424593  0.30067196 0.68027863]\n",
      " [0.82869901 0.30264764 0.73512967 0.45221243]\n",
      " [0.65522602 0.19209983 0.62297477 0.96143096]]\n",
      "9.048997139605962\n",
      " ==== min ====\n",
      "[0.22445696 0.19209983 0.30067196 0.32877987]\n",
      "[0.32877987 0.22445696 0.30264764 0.19209983]\n",
      " ==== max ====\n",
      "[0.82869901 0.90712961 0.73512967 0.96143096]\n",
      "[0.90712961 0.7424593  0.82869901 0.96143096]\n",
      " ==== sum ====\n",
      "[2.38270603 2.14433638 2.09925285 2.42270188]\n",
      "[2.35070996 1.94786685 2.31868875 2.43173158]\n"
     ]
    }
   ],
   "source": [
    "import numpy as np\n",
    "\n",
    "M=np.random.random((4,4))\n",
    "print(M)\n",
    "print(M.sum())\n",
    "print(\" ==== min ====\")\n",
    "print(M.min(axis=0))\n",
    "print(M.min(axis=1))\n",
    "print(\" ==== max ====\")\n",
    "print(M.max(axis=0))\n",
    "print(M.max(axis=1))\n",
    "print(\" ==== sum ====\")\n",
    "print(M.sum(axis=0))\n",
    "print(M.sum(axis=1))\n"
   ]
  }
 ],
 "metadata": {
  "kernelspec": {
   "display_name": "Python 3",
   "language": "python",
   "name": "python3"
  },
  "language_info": {
   "codemirror_mode": {
    "name": "ipython",
    "version": 3
   },
   "file_extension": ".py",
   "mimetype": "text/x-python",
   "name": "python",
   "nbconvert_exporter": "python",
   "pygments_lexer": "ipython3",
   "version": "3.11.5"
  }
 },
 "nbformat": 4,
 "nbformat_minor": 2
}
